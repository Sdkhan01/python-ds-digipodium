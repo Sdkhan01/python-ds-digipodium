{
 "cells": [
  {
   "cell_type": "code",
   "execution_count": null,
   "metadata": {},
   "outputs": [],
   "source": []
  },
  {
   "attachments": {},
   "cell_type": "markdown",
   "metadata": {},
   "source": [
    "orderd data structure\n",
    "mutable\n",
    "data stored in key value pair\n",
    "key : they are immutable and unique\n",
    "value can be mutable or immutale and can be duplicate and have type"
   ]
  },
  {
   "cell_type": "code",
   "execution_count": 2,
   "metadata": {},
   "outputs": [],
   "source": [
    "##Creation of the dictionary \n",
    "fruits = { 'apple' : 3,\n",
    "          'banana' : 5,\n",
    "          'orange' : 5\n",
    "          \n",
    "\n",
    "\n",
    "}"
   ]
  },
  {
   "cell_type": "code",
   "execution_count": 3,
   "metadata": {},
   "outputs": [
    {
     "data": {
      "text/plain": [
       "{'apple': 3, 'banana': 5, 'orange': 5}"
      ]
     },
     "execution_count": 3,
     "metadata": {},
     "output_type": "execute_result"
    }
   ],
   "source": [
    "fruits\n"
   ]
  },
  {
   "cell_type": "code",
   "execution_count": 5,
   "metadata": {},
   "outputs": [],
   "source": [
    "grocery = {\n",
    "    'fruit':['apple','mango','orange','grape'],  #fruit is Key\n",
    "    'vegies':['carrot','potato','onion'],\n",
    "    'dairy':['milk','bread','cheese'],\n",
    "    'meat':None ,\n",
    "    'bread': 'brown bread'\n",
    "\n",
    "}"
   ]
  },
  {
   "cell_type": "code",
   "execution_count": 9,
   "metadata": {},
   "outputs": [
    {
     "name": "stdout",
     "output_type": "stream",
     "text": [
      "{'fruit': ['apple', 'mango', 'orange', 'grape'], 'vegies': ['carrot', 'potato', 'onion'], 'dairy': ['milk', 'bread', 'cheese'], 'meat': None, 'bread': 'brown bread'}\n"
     ]
    }
   ],
   "source": [
    "print(grocery)"
   ]
  },
  {
   "cell_type": "code",
   "execution_count": 10,
   "metadata": {},
   "outputs": [
    {
     "data": {
      "text/plain": [
       "{'fruit': ['apple', 'mango', 'orange', 'grape'],\n",
       " 'vegies': ['carrot', 'potato', 'onion'],\n",
       " 'dairy': ['milk', 'bread', 'cheese'],\n",
       " 'meat': None,\n",
       " 'bread': 'brown bread'}"
      ]
     },
     "execution_count": 10,
     "metadata": {},
     "output_type": "execute_result"
    }
   ],
   "source": [
    "grocery"
   ]
  },
  {
   "cell_type": "code",
   "execution_count": 7,
   "metadata": {},
   "outputs": [],
   "source": [
    "from pprint import pp #Presentable output\n"
   ]
  },
  {
   "cell_type": "code",
   "execution_count": 8,
   "metadata": {},
   "outputs": [
    {
     "name": "stdout",
     "output_type": "stream",
     "text": [
      "{'fruit': ['apple', 'mango', 'orange', 'grape'],\n",
      " 'vegies': ['carrot', 'potato', 'onion'],\n",
      " 'dairy': ['milk', 'bread', 'cheese'],\n",
      " 'meat': None,\n",
      " 'bread': 'brown bread'}\n"
     ]
    }
   ],
   "source": [
    "pp(grocery)"
   ]
  },
  {
   "cell_type": "code",
   "execution_count": 11,
   "metadata": {},
   "outputs": [],
   "source": [
    "#Updation\n",
    "fruits['apple'] #fetching\n",
    "fruits['apple'] = 10"
   ]
  },
  {
   "cell_type": "code",
   "execution_count": 12,
   "metadata": {},
   "outputs": [
    {
     "data": {
      "text/plain": [
       "{'apple': 10, 'banana': 5, 'orange': 5}"
      ]
     },
     "execution_count": 12,
     "metadata": {},
     "output_type": "execute_result"
    }
   ],
   "source": [
    "fruits"
   ]
  },
  {
   "cell_type": "code",
   "execution_count": 14,
   "metadata": {},
   "outputs": [
    {
     "data": {
      "text/plain": [
       "{'apple': 10, 'banana': 5, 'orange': 5, 'mango': 12}"
      ]
     },
     "execution_count": 14,
     "metadata": {},
     "output_type": "execute_result"
    }
   ],
   "source": [
    "fruits['mango'] = 12 #Adding new key in dictionary #Mango\n",
    "fruits"
   ]
  },
  {
   "cell_type": "code",
   "execution_count": 15,
   "metadata": {},
   "outputs": [
    {
     "data": {
      "text/plain": [
       "{'fruit': ['apple', 'mango', 'orange', 'grape'],\n",
       " 'vegies': ['carrot', 'potato', 'onion'],\n",
       " 'dairy': ['milk', 'bread', 'cheese'],\n",
       " 'meat': None,\n",
       " 'bread': 'brown bread',\n",
       " 'spices': ['cumin', 'coriander', 'turmeric']}"
      ]
     },
     "execution_count": 15,
     "metadata": {},
     "output_type": "execute_result"
    }
   ],
   "source": [
    "grocery['spices'] = ['cumin' , 'coriander', 'turmeric']\n",
    "grocery"
   ]
  },
  {
   "cell_type": "code",
   "execution_count": 18,
   "metadata": {},
   "outputs": [],
   "source": [
    "grocery['fruit'] = ['kiwi','orange','apple','grape']"
   ]
  },
  {
   "cell_type": "code",
   "execution_count": 19,
   "metadata": {},
   "outputs": [
    {
     "data": {
      "text/plain": [
       "{'fruit': ['kiwi', 'orange', 'apple', 'grape'],\n",
       " 'vegies': ['carrot', 'potato', 'onion'],\n",
       " 'dairy': ['milk', 'bread', 'cheese'],\n",
       " 'meat': None,\n",
       " 'bread': 'brown bread',\n",
       " 'spices': ['cumin', 'coriander', 'turmeric']}"
      ]
     },
     "execution_count": 19,
     "metadata": {},
     "output_type": "execute_result"
    }
   ],
   "source": [
    "grocery"
   ]
  },
  {
   "cell_type": "code",
   "execution_count": 20,
   "metadata": {},
   "outputs": [
    {
     "data": {
      "text/plain": [
       "{'fruit': ['kiwi', 'orange', 'apple', 'grape', 'mango'],\n",
       " 'vegies': ['carrot', 'potato', 'onion'],\n",
       " 'dairy': ['milk', 'bread', 'cheese'],\n",
       " 'meat': None,\n",
       " 'bread': 'brown bread',\n",
       " 'spices': ['cumin', 'coriander', 'turmeric']}"
      ]
     },
     "execution_count": 20,
     "metadata": {},
     "output_type": "execute_result"
    }
   ],
   "source": [
    "grocery['fruit'].append('mango')\n",
    "grocery"
   ]
  },
  {
   "cell_type": "code",
   "execution_count": 23,
   "metadata": {},
   "outputs": [],
   "source": [
    "grocery['dairy'].append('yogurt')"
   ]
  },
  {
   "cell_type": "code",
   "execution_count": 24,
   "metadata": {},
   "outputs": [
    {
     "data": {
      "text/plain": [
       "{'fruit': ['kiwi', 'orange', 'apple', 'grape', 'mango'],\n",
       " 'vegies': ['carrot', 'potato', 'onion'],\n",
       " 'dairy': ['milk', 'bread', 'cheese', 'yogurt'],\n",
       " 'meat': None,\n",
       " 'bread': 'brown bread',\n",
       " 'spices': ['cumin', 'coriander', 'turmeric']}"
      ]
     },
     "execution_count": 24,
     "metadata": {},
     "output_type": "execute_result"
    }
   ],
   "source": [
    "grocery"
   ]
  },
  {
   "cell_type": "code",
   "execution_count": 28,
   "metadata": {},
   "outputs": [
    {
     "data": {
      "text/plain": [
       "dict_keys(['apple', 'banana', 'orange', 'mango'])"
      ]
     },
     "execution_count": 28,
     "metadata": {},
     "output_type": "execute_result"
    }
   ],
   "source": [
    "#TO GET ALL Th KEYS \n",
    "\n",
    "fruits.keys()"
   ]
  },
  {
   "cell_type": "code",
   "execution_count": 29,
   "metadata": {},
   "outputs": [
    {
     "data": {
      "text/plain": [
       "dict_keys(['fruit', 'vegies', 'dairy', 'meat', 'bread', 'spices'])"
      ]
     },
     "execution_count": 29,
     "metadata": {},
     "output_type": "execute_result"
    }
   ],
   "source": [
    "grocery.keys()"
   ]
  },
  {
   "cell_type": "code",
   "execution_count": 30,
   "metadata": {},
   "outputs": [
    {
     "data": {
      "text/plain": [
       "dict_values([10, 5, 5, 12])"
      ]
     },
     "execution_count": 30,
     "metadata": {},
     "output_type": "execute_result"
    }
   ],
   "source": [
    "fruits.values()"
   ]
  },
  {
   "cell_type": "code",
   "execution_count": 31,
   "metadata": {},
   "outputs": [
    {
     "data": {
      "text/plain": [
       "dict_values([['kiwi', 'orange', 'apple', 'grape', 'mango'], ['carrot', 'potato', 'onion'], ['milk', 'bread', 'cheese', 'yogurt'], None, 'brown bread', ['cumin', 'coriander', 'turmeric']])"
      ]
     },
     "execution_count": 31,
     "metadata": {},
     "output_type": "execute_result"
    }
   ],
   "source": [
    "grocery.values()"
   ]
  },
  {
   "cell_type": "code",
   "execution_count": 32,
   "metadata": {},
   "outputs": [
    {
     "data": {
      "text/plain": [
       "dict_items([('apple', 10), ('banana', 5), ('orange', 5), ('mango', 12)])"
      ]
     },
     "execution_count": 32,
     "metadata": {},
     "output_type": "execute_result"
    }
   ],
   "source": [
    "fruits.items()"
   ]
  },
  {
   "cell_type": "code",
   "execution_count": 33,
   "metadata": {},
   "outputs": [
    {
     "data": {
      "text/plain": [
       "{'apple': 10, 'banana': 5, 'orange': 5, 'mango': 12}"
      ]
     },
     "execution_count": 33,
     "metadata": {},
     "output_type": "execute_result"
    }
   ],
   "source": [
    "fruits"
   ]
  },
  {
   "cell_type": "code",
   "execution_count": 37,
   "metadata": {},
   "outputs": [
    {
     "name": "stdout",
     "output_type": "stream",
     "text": [
      "apple 10\n",
      "banana 5\n",
      "orange 5\n",
      "mango 12\n"
     ]
    }
   ],
   "source": [
    "##Traversall\n",
    "\n",
    "for k,v in fruits.items():\n",
    "    print(k, v)"
   ]
  },
  {
   "cell_type": "code",
   "execution_count": 39,
   "metadata": {},
   "outputs": [],
   "source": [
    "reports = {\n",
    "    'rajesh' : {\n",
    "        'English' : 80,\n",
    "        'Hindi' : 90,\n",
    "        'Math' : 86\n",
    "    },\n",
    "    'Suresh' : {\n",
    "        'English' : 70,\n",
    "        'Hindi' : 68,\n",
    "        'Math' : 86\n",
    "\n",
    "    },\n",
    "}"
   ]
  },
  {
   "cell_type": "code",
   "execution_count": 41,
   "metadata": {},
   "outputs": [
    {
     "data": {
      "text/plain": [
       "70"
      ]
     },
     "execution_count": 41,
     "metadata": {},
     "output_type": "execute_result"
    }
   ],
   "source": [
    "reports['Suresh']['English']"
   ]
  },
  {
   "cell_type": "code",
   "execution_count": 42,
   "metadata": {},
   "outputs": [
    {
     "data": {
      "text/plain": [
       "{'English': 70, 'Hindi': 68, 'Math': 86}"
      ]
     },
     "execution_count": 42,
     "metadata": {},
     "output_type": "execute_result"
    }
   ],
   "source": [
    "reports.get('Suresh')"
   ]
  },
  {
   "cell_type": "code",
   "execution_count": 43,
   "metadata": {},
   "outputs": [
    {
     "data": {
      "text/plain": [
       "68"
      ]
     },
     "execution_count": 43,
     "metadata": {},
     "output_type": "execute_result"
    }
   ],
   "source": [
    "reports['Suresh']['Hindi']"
   ]
  },
  {
   "cell_type": "code",
   "execution_count": 45,
   "metadata": {},
   "outputs": [
    {
     "data": {
      "text/plain": [
       "{'English': 70, 'Hindi': 68, 'Math': 86}"
      ]
     },
     "execution_count": 45,
     "metadata": {},
     "output_type": "execute_result"
    }
   ],
   "source": [
    "reports['Suresh']"
   ]
  },
  {
   "cell_type": "code",
   "execution_count": 47,
   "metadata": {},
   "outputs": [
    {
     "data": {
      "text/plain": [
       "{'English': 70, 'Hindi': 68, 'Math': 86}"
      ]
     },
     "execution_count": 47,
     "metadata": {},
     "output_type": "execute_result"
    }
   ],
   "source": [
    "reports.get('Suresh' , 'he is good student')   \n"
   ]
  },
  {
   "cell_type": "code",
   "execution_count": 48,
   "metadata": {},
   "outputs": [
    {
     "data": {
      "text/plain": [
       "'He is out'"
      ]
     },
     "execution_count": 48,
     "metadata": {},
     "output_type": "execute_result"
    }
   ],
   "source": [
    "reports.get('Ramesh',  'He is out')"
   ]
  },
  {
   "cell_type": "code",
   "execution_count": 50,
   "metadata": {},
   "outputs": [
    {
     "data": {
      "text/plain": [
       "{'rajesh': {'English': 80, 'Hindi': 90, 'Math': 86},\n",
       " 'Suresh': {'English': 70, 'Hindi': 68, 'Math': 86},\n",
       " 'sunita': {'English': 93, 'Hindi': 76, 'Math': 67}}"
      ]
     },
     "execution_count": 50,
     "metadata": {},
     "output_type": "execute_result"
    }
   ],
   "source": [
    "reports['sunita'] = {\n",
    "    'English':93,\n",
    "    'Hindi' : 76,\n",
    "    'Math' : 67\n",
    "\n",
    "}\n",
    "reports"
   ]
  },
  {
   "cell_type": "code",
   "execution_count": 53,
   "metadata": {},
   "outputs": [
    {
     "name": "stdout",
     "output_type": "stream",
     "text": [
      "rajesh\n",
      "80 in English\n",
      "90 in Hindi\n",
      "86 in Math\n",
      "******************************\n",
      "Suresh\n",
      "70 in English\n",
      "68 in Hindi\n",
      "86 in Math\n",
      "******************************\n",
      "sunita\n",
      "93 in English\n",
      "76 in Hindi\n",
      "67 in Math\n",
      "******************************\n"
     ]
    }
   ],
   "source": [
    "for student, details in reports.items():\n",
    "    print(student)\n",
    "    for sub,marks in details.items():\n",
    "        print(f'{marks} in {sub}')\n",
    "    \n",
    "    print('******' *5)"
   ]
  },
  {
   "attachments": {},
   "cell_type": "markdown",
   "metadata": {},
   "source": [
    "Create a Dictionary of 5 Employee with details\n",
    "name : str department str sal : int skills : list project : dict -proj_name : str -proj_duration : int -proj_tech : list"
   ]
  },
  {
   "cell_type": "code",
   "execution_count": 55,
   "metadata": {},
   "outputs": [],
   "source": [
    "emps = {\n",
    "    'e1' : {\n",
    "        'name': 'Alex',\n",
    "        'dept' : 'HR',\n",
    "        'slaray' : '10000',\n",
    "        'skills' : ['Management','Communication'],\n",
    "        'projects' : {\n",
    "            'project_name' : 'HRMS',\n",
    "            'project_dur' : 6,\n",
    "            'project_tech' : ['excel','power-Bi','powerpoint']\n",
    "        },\n",
    "    },\n",
    "    'e2' :  {\n",
    "        'name': 'Robin',\n",
    "        'dept' : 'Software Developer',\n",
    "        'slaray' : '15000',\n",
    "        'skills' : ['Management','Communication','Hardworking'],\n",
    "        'projects' : {\n",
    "            'project_name' : 'PG Management',\n",
    "            'project_dur' : 6,\n",
    "            'project_tech' : ['HTML','JS','CSS']\n",
    "        },\n",
    "    },\n",
    "    'e3' :  {\n",
    "\n",
    "        'name': 'Kevin',\n",
    "        'dept' : 'Software Developer',\n",
    "        'slaray' : '15000',\n",
    "        'skills' : ['Management','Communication','Hardworking'],\n",
    "        'projects' : {\n",
    "            'project_name' : 'PG Management',\n",
    "            'project_dur' : 6,\n",
    "            'project_tech' : ['Python','JS','CSS']\n",
    "        }\n",
    "    \n",
    "        \n",
    "    }\n",
    "    \n",
    "}"
   ]
  },
  {
   "cell_type": "code",
   "execution_count": 56,
   "metadata": {},
   "outputs": [
    {
     "data": {
      "text/plain": [
       "{'name': 'Robin',\n",
       " 'dept': 'Software Developer',\n",
       " 'slaray': '15000',\n",
       " 'skills': ['Management', 'Communication', 'Hardworking'],\n",
       " 'projects': {'project_name': 'PG Management',\n",
       "  'project_dur': 6,\n",
       "  'project_tech': ['HTML', 'JS', 'CSS']}}"
      ]
     },
     "execution_count": 56,
     "metadata": {},
     "output_type": "execute_result"
    }
   ],
   "source": [
    "emps['e3']"
   ]
  },
  {
   "cell_type": "code",
   "execution_count": null,
   "metadata": {},
   "outputs": [],
   "source": []
  }
 ],
 "metadata": {
  "kernelspec": {
   "display_name": "base",
   "language": "python",
   "name": "python3"
  },
  "language_info": {
   "codemirror_mode": {
    "name": "ipython",
    "version": 3
   },
   "file_extension": ".py",
   "mimetype": "text/x-python",
   "name": "python",
   "nbconvert_exporter": "python",
   "pygments_lexer": "ipython3",
   "version": "3.10.10"
  },
  "orig_nbformat": 4
 },
 "nbformat": 4,
 "nbformat_minor": 2
}
