{
 "cells": [
  {
   "cell_type": "code",
   "execution_count": 2,
   "metadata": {},
   "outputs": [],
   "source": [
    "\n",
    "x =5\n",
    "y = 3\n"
   ]
  },
  {
   "cell_type": "code",
   "execution_count": 3,
   "metadata": {},
   "outputs": [
    {
     "name": "stdout",
     "output_type": "stream",
     "text": [
      "X is greater then y\n"
     ]
    }
   ],
   "source": [
    "if x > y:\n",
    "    print(\"X is greater then y\")\n",
    "else:\n",
    "    print(\"Y is greater\")"
   ]
  },
  {
   "cell_type": "code",
   "execution_count": 5,
   "metadata": {},
   "outputs": [
    {
     "name": "stdout",
     "output_type": "stream",
     "text": [
      "x is greater than th 5\n"
     ]
    }
   ],
   "source": [
    "if x > 5:\n",
    "    if y >1:\n",
    "        print(\"x and y are greater than 5\")\n",
    "    else:\n",
    "        print(\"x is greater than  5 but y in not grater than 5\")\n",
    "else:\n",
    "    print(\"x is greater than th 5\")\n"
   ]
  },
  {
   "cell_type": "code",
   "execution_count": 8,
   "metadata": {},
   "outputs": [
    {
     "name": "stdout",
     "output_type": "stream",
     "text": [
      "number is odd\n"
     ]
    }
   ],
   "source": [
    "num = int(input(\"Enter any number\"))\n",
    "\n",
    "if num % 2==0:\n",
    "\n",
    "    print(\"Number is even\")\n",
    "else:\n",
    "    print(\"number is odd\")\n"
   ]
  },
  {
   "attachments": {},
   "cell_type": "markdown",
   "metadata": {},
   "source": [
    "Multiple conditional statement"
   ]
  },
  {
   "cell_type": "code",
   "execution_count": 9,
   "metadata": {},
   "outputs": [
    {
     "name": "stdout",
     "output_type": "stream",
     "text": [
      "z is greater than x and y\n"
     ]
    }
   ],
   "source": [
    "x,y,z = 120 , 120,122\n",
    "if x>y and x>z:\n",
    "    print(\"x is greater than the y and z \")\n",
    "elif y > x and y >z :\n",
    "    print(\"y is greater than x and z\")\n",
    "elif z > x and z > y :\n",
    "    print(\"z is greater than x and y\")\n",
    "else:\n",
    "    print(\"x , y and z are equal\")"
   ]
  },
  {
   "cell_type": "code",
   "execution_count": 10,
   "metadata": {},
   "outputs": [
    {
     "name": "stdout",
     "output_type": "stream",
     "text": [
      "today is monday\n"
     ]
    }
   ],
   "source": [
    "day = input(\"ENter the day of the week\")\n",
    "\n",
    "match day:\n",
    "    case 'Monday':\n",
    "        print('today is monday')\n",
    "    case 'Tuesday':\n",
    "        print('today is tuesday')\n",
    "    case 'Wednsesday':\n",
    "        print('today is Wednesday')\n",
    "    case _:     #Default case\n",
    "        print(\"Invalid day\") \n"
   ]
  },
  {
   "cell_type": "code",
   "execution_count": null,
   "metadata": {},
   "outputs": [],
   "source": []
  }
 ],
 "metadata": {
  "kernelspec": {
   "display_name": "base",
   "language": "python",
   "name": "python3"
  },
  "language_info": {
   "codemirror_mode": {
    "name": "ipython",
    "version": 3
   },
   "file_extension": ".py",
   "mimetype": "text/x-python",
   "name": "python",
   "nbconvert_exporter": "python",
   "pygments_lexer": "ipython3",
   "version": "3.10.10"
  },
  "orig_nbformat": 4
 },
 "nbformat": 4,
 "nbformat_minor": 2
}
