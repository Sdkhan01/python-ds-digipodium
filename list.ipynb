{
 "cells": [
  {
   "cell_type": "code",
   "execution_count": 4,
   "metadata": {},
   "outputs": [],
   "source": [
    "#list\n",
    "\n",
    "x = [1,2,3,4,5,6]\n",
    "y = []\n",
    "z = ['apples','cherry', 'orange' 'melon', 'kiwi']\n",
    "a = ['alex', 5, 'john', 7, 'sam' , 10 , 'james', 12]\n",
    "a3 = [[1,2,3],\n",
    "      [3,5,7],\n",
    "      [7,8,9]]\n"
   ]
  },
  {
   "cell_type": "code",
   "execution_count": 12,
   "metadata": {},
   "outputs": [],
   "source": [
    "class movie:\n",
    "    def __init__ (self, name, year) :\n",
    "        self.name = name\n",
    "        self.year = year\n",
    "movies = [\n",
    "    movie(\"The Matrix\",1999),\n",
    "    movie(\"Iron man\",2007),\n",
    "    movie(\"Iron man 2\", 2008),\n",
    "    movie(\"Shawshank redemption\",1999)\n",
    "\n",
    "\n",
    "]"
   ]
  },
  {
   "cell_type": "code",
   "execution_count": 13,
   "metadata": {},
   "outputs": [
    {
     "data": {
      "text/plain": [
       "['S', 'h', 'a', 'd', 'a', 'b', ' ', 'k', 'h', 'a', 'n']"
      ]
     },
     "execution_count": 13,
     "metadata": {},
     "output_type": "execute_result"
    }
   ],
   "source": [
    "##Converting into list\n",
    "name = \"Shadab khan\"\n",
    "list(name)"
   ]
  },
  {
   "cell_type": "code",
   "execution_count": 16,
   "metadata": {},
   "outputs": [
    {
     "name": "stdout",
     "output_type": "stream",
     "text": [
      "[1, 2, 3, 4, 5, 6, 7, 8, 9]\n"
     ]
    }
   ],
   "source": [
    "print(list(range(1,10)))"
   ]
  },
  {
   "cell_type": "code",
   "execution_count": 17,
   "metadata": {},
   "outputs": [
    {
     "name": "stdout",
     "output_type": "stream",
     "text": [
      "alex\n"
     ]
    }
   ],
   "source": [
    "print(a[0])"
   ]
  },
  {
   "cell_type": "code",
   "execution_count": 18,
   "metadata": {},
   "outputs": [
    {
     "name": "stdout",
     "output_type": "stream",
     "text": [
      "7\n"
     ]
    }
   ],
   "source": [
    "print(a[3])"
   ]
  },
  {
   "cell_type": "code",
   "execution_count": 19,
   "metadata": {},
   "outputs": [
    {
     "name": "stdout",
     "output_type": "stream",
     "text": [
      "[1, 2, 3, 4, 5, 6, 7, 8, 9, 10]\n",
      "[11, 12, 13, 14, 15, 16, 17, 18, 19, 20]\n",
      "[91, 92, 93, 94, 95, 96, 97, 98, 99, 100]\n",
      "[2, 4, 6, 8, 10, 12, 14, 16, 18, 20, 22, 24, 26, 28, 30, 32, 34, 36, 38, 40, 42, 44, 46, 48, 50, 52, 54, 56, 58, 60, 62, 64, 66, 68, 70, 72, 74, 76, 78, 80, 82, 84, 86, 88, 90, 92, 94, 96, 98, 100]\n",
      "[51, 50, 49, 48, 47, 46, 45, 44, 43, 42, 41, 40, 39, 38, 37, 36, 35, 34, 33, 32]\n",
      "[51, 50, 49, 48, 47, 46, 45, 44, 43, 42, 41, 40, 39, 38, 37, 36, 35, 34, 33, 32]\n"
     ]
    }
   ],
   "source": [
    "data = list(range(1,101))\n",
    "print(data[:10])\n",
    "print(data[10:20])\n",
    "\n",
    "print(data[-10:])#\n",
    "print(data[1::2])#Odd numbers\n",
    "print(data[50:30:-1])##Reverse\n",
    "print(data[50:30:-1])"
   ]
  },
  {
   "cell_type": "code",
   "execution_count": 20,
   "metadata": {},
   "outputs": [
    {
     "name": "stdout",
     "output_type": "stream",
     "text": [
      "alex\n",
      "5\n",
      "john\n",
      "7\n",
      "sam\n",
      "10\n",
      "james\n",
      "12\n"
     ]
    }
   ],
   "source": [
    "for item in a:\n",
    "    print(item\n",
    "          )"
   ]
  },
  {
   "cell_type": "code",
   "execution_count": 21,
   "metadata": {},
   "outputs": [],
   "source": [
    "movies = []\n",
    "movies.append('thor')"
   ]
  },
  {
   "cell_type": "code",
   "execution_count": 23,
   "metadata": {},
   "outputs": [],
   "source": [
    "movies.append('flash')\n",
    "movies.append('odin')\n",
    "movies.append('loki')\n",
    "movies.append('ironman')\n",
    "movies.append('hulk')\n",
    "movies.append('tnenet')\n",
    "movies.append('batman')\n",
    "movies.append('petrik betmen')\n",
    "movies.append('inception')\n",
    "movies.append('avenger')\n",
    "movies.append('lucy')"
   ]
  },
  {
   "cell_type": "code",
   "execution_count": 24,
   "metadata": {},
   "outputs": [
    {
     "data": {
      "text/plain": [
       "['thor',\n",
       " 'flash',\n",
       " 'odin',\n",
       " 'kungu hustle',\n",
       " 'loki',\n",
       " 'ironman',\n",
       " 'hulk',\n",
       " 'tnenet',\n",
       " 'batman',\n",
       " 'petrik betmen',\n",
       " 'inception',\n",
       " 'avenger',\n",
       " 'lucy']"
      ]
     },
     "execution_count": 24,
     "metadata": {},
     "output_type": "execute_result"
    }
   ],
   "source": [
    "movies.insert(3,'kungu hustle') #inserting wihtout replacing\n",
    "movies"
   ]
  },
  {
   "cell_type": "code",
   "execution_count": 26,
   "metadata": {},
   "outputs": [
    {
     "data": {
      "text/plain": [
       "[1, 2, 3, 4, 5, 6, 7, 8]"
      ]
     },
     "execution_count": 26,
     "metadata": {},
     "output_type": "execute_result"
    }
   ],
   "source": [
    "x = [1,2,3,4]\n",
    "y = [5,6,7,8]\n",
    "x+y"
   ]
  },
  {
   "cell_type": "code",
   "execution_count": 31,
   "metadata": {},
   "outputs": [
    {
     "data": {
      "text/plain": [
       "[1, 2, 3, 4, 5, 6, 7, 8, 5, 6, 7, 8, 5, 6, 7, 8]"
      ]
     },
     "execution_count": 31,
     "metadata": {},
     "output_type": "execute_result"
    }
   ],
   "source": [
    "x.extend(y)\n",
    "x"
   ]
  },
  {
   "cell_type": "code",
   "execution_count": 30,
   "metadata": {},
   "outputs": [],
   "source": [
    "movies.remove('flash')"
   ]
  },
  {
   "cell_type": "code",
   "execution_count": 32,
   "metadata": {},
   "outputs": [
    {
     "data": {
      "text/plain": [
       "['thor',\n",
       " 'odin',\n",
       " 'kungu hustle',\n",
       " 'loki',\n",
       " 'ironman',\n",
       " 'hulk',\n",
       " 'tnenet',\n",
       " 'batman',\n",
       " 'petrik betmen',\n",
       " 'inception',\n",
       " 'avenger',\n",
       " 'lucy']"
      ]
     },
     "execution_count": 32,
     "metadata": {},
     "output_type": "execute_result"
    }
   ],
   "source": [
    "movies"
   ]
  },
  {
   "cell_type": "code",
   "execution_count": 33,
   "metadata": {},
   "outputs": [
    {
     "data": {
      "text/plain": [
       "'lucy'"
      ]
     },
     "execution_count": 33,
     "metadata": {},
     "output_type": "execute_result"
    }
   ],
   "source": [
    "movies.pop()"
   ]
  },
  {
   "cell_type": "code",
   "execution_count": 36,
   "metadata": {},
   "outputs": [],
   "source": [
    "value = 'loki'\n",
    "if value in movies:\n",
    "    movies.remove(value)\n",
    "else:\n",
    "    print('value not found')"
   ]
  },
  {
   "cell_type": "code",
   "execution_count": 37,
   "metadata": {},
   "outputs": [
    {
     "data": {
      "text/plain": [
       "['thor',\n",
       " 'odin',\n",
       " 'kungu hustle',\n",
       " 'ironman',\n",
       " 'hulk',\n",
       " 'tnenet',\n",
       " 'batman',\n",
       " 'petrik betmen',\n",
       " 'inception',\n",
       " 'avenger']"
      ]
     },
     "execution_count": 37,
     "metadata": {},
     "output_type": "execute_result"
    }
   ],
   "source": [
    "movies\n"
   ]
  },
  {
   "cell_type": "code",
   "execution_count": 40,
   "metadata": {},
   "outputs": [],
   "source": [
    "movies.clear() #Clear all the data from the list"
   ]
  },
  {
   "cell_type": "code",
   "execution_count": 41,
   "metadata": {},
   "outputs": [
    {
     "data": {
      "text/plain": [
       "[]"
      ]
     },
     "execution_count": 41,
     "metadata": {},
     "output_type": "execute_result"
    }
   ],
   "source": [
    "movies"
   ]
  },
  {
   "cell_type": "code",
   "execution_count": 42,
   "metadata": {},
   "outputs": [],
   "source": [
    "del data  #Will delete the variable\n"
   ]
  },
  {
   "cell_type": "code",
   "execution_count": 44,
   "metadata": {},
   "outputs": [],
   "source": [
    "books = ['atomic habits','subtle art of not giving fuck','rich dad poor dad','white sand', 'atlantis','hero','age of ultron','hobbit']"
   ]
  },
  {
   "cell_type": "code",
   "execution_count": 45,
   "metadata": {},
   "outputs": [
    {
     "data": {
      "text/plain": [
       "7"
      ]
     },
     "execution_count": 45,
     "metadata": {},
     "output_type": "execute_result"
    }
   ],
   "source": [
    "books.index('hobbit')"
   ]
  },
  {
   "cell_type": "code",
   "execution_count": 48,
   "metadata": {},
   "outputs": [],
   "source": [
    "x = [1,1,2,3,4,1,2,2,3,4,4,5,5,5,6,5,6,7,8,9,3,5,2,1]\n",
    "\n"
   ]
  },
  {
   "cell_type": "code",
   "execution_count": 51,
   "metadata": {},
   "outputs": [
    {
     "data": {
      "text/plain": [
       "4"
      ]
     },
     "execution_count": 51,
     "metadata": {},
     "output_type": "execute_result"
    }
   ],
   "source": [
    "x.count(1)\n"
   ]
  },
  {
   "cell_type": "code",
   "execution_count": 52,
   "metadata": {},
   "outputs": [
    {
     "data": {
      "text/plain": [
       "3"
      ]
     },
     "execution_count": 52,
     "metadata": {},
     "output_type": "execute_result"
    }
   ],
   "source": [
    "x.count(3)"
   ]
  },
  {
   "cell_type": "code",
   "execution_count": 53,
   "metadata": {},
   "outputs": [
    {
     "name": "stdout",
     "output_type": "stream",
     "text": [
      "['hobbit', 'age of', 'hero', 'atlantis', 'white sand', 'rich dad poor dad', 'subtle art of not giving fuck', 'atomic habits']\n"
     ]
    }
   ],
   "source": [
    "#It will reverse the list permanently\n",
    "\n",
    "books.reverse()\n",
    "print(books )"
   ]
  },
  {
   "cell_type": "code",
   "execution_count": 54,
   "metadata": {},
   "outputs": [
    {
     "name": "stdout",
     "output_type": "stream",
     "text": [
      "['white sand', 'subtle art of not giving fuck', 'rich dad poor dad', 'hobbit', 'hero', 'atomic habits', 'atlantis', 'age of']\n"
     ]
    }
   ],
   "source": [
    "books.sort(reverse = True) #sort data in descending order \n",
    "print(books )"
   ]
  },
  {
   "cell_type": "code",
   "execution_count": 55,
   "metadata": {},
   "outputs": [],
   "source": [
    "books_backup  = books.copy() #a copy of variable is created at a different memory location"
   ]
  },
  {
   "cell_type": "code",
   "execution_count": 56,
   "metadata": {},
   "outputs": [],
   "source": [
    "books2 = books #both variable point to same memory location not suggested"
   ]
  },
  {
   "cell_type": "code",
   "execution_count": 57,
   "metadata": {},
   "outputs": [
    {
     "name": "stdout",
     "output_type": "stream",
     "text": [
      "['white sand', 'subtle art of not giving fuck', 'rich dad poor dad', 'hobbit', 'hero', 'atomic habits', 'atlantis', 'age of', 'thorrr']\n",
      "['white sand', 'subtle art of not giving fuck', 'rich dad poor dad', 'hobbit', 'hero', 'atomic habits', 'atlantis', 'age of', 'thorrr']\n",
      "['white sand', 'subtle art of not giving fuck', 'rich dad poor dad', 'hobbit', 'hero', 'atomic habits', 'atlantis', 'age of']\n"
     ]
    }
   ],
   "source": [
    "books.append('thorrr')\n",
    "print(books)\n",
    "print(books2)\n",
    "print(books_backup)"
   ]
  },
  {
   "cell_type": "code",
   "execution_count": 58,
   "metadata": {},
   "outputs": [
    {
     "data": {
      "text/plain": [
       "True"
      ]
     },
     "execution_count": 58,
     "metadata": {},
     "output_type": "execute_result"
    }
   ],
   "source": [
    "books2 is books"
   ]
  },
  {
   "cell_type": "code",
   "execution_count": 59,
   "metadata": {},
   "outputs": [
    {
     "data": {
      "text/plain": [
       "False"
      ]
     },
     "execution_count": 59,
     "metadata": {},
     "output_type": "execute_result"
    }
   ],
   "source": [
    "books_backup is books"
   ]
  },
  {
   "cell_type": "code",
   "execution_count": null,
   "metadata": {},
   "outputs": [],
   "source": []
  }
 ],
 "metadata": {
  "kernelspec": {
   "display_name": "base",
   "language": "python",
   "name": "python3"
  },
  "language_info": {
   "codemirror_mode": {
    "name": "ipython",
    "version": 3
   },
   "file_extension": ".py",
   "mimetype": "text/x-python",
   "name": "python",
   "nbconvert_exporter": "python",
   "pygments_lexer": "ipython3",
   "version": "3.10.10"
  },
  "orig_nbformat": 4
 },
 "nbformat": 4,
 "nbformat_minor": 2
}
